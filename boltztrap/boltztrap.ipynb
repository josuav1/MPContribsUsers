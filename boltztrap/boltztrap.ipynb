{
 "cells": [
  {
   "cell_type": "code",
   "execution_count": null,
   "metadata": {
    "collapsed": true
   },
   "outputs": [],
   "source": [
    "from __future__ import unicode_literals\n",
    "from mpcontribs.users.boltztrap.rest.rester import BoltztrapRester"
   ]
  },
  {
   "cell_type": "code",
   "execution_count": null,
   "metadata": {
    "collapsed": false
   },
   "outputs": [],
   "source": [
    "mpr = BoltztrapRester(test_site=True)\n",
    "mpr.count()"
   ]
  },
  {
   "cell_type": "markdown",
   "metadata": {},
   "source": [
    "## specific contribution\n",
    "see contribution detail page"
   ]
  },
  {
   "cell_type": "code",
   "execution_count": null,
   "metadata": {
    "collapsed": false
   },
   "outputs": [],
   "source": [
    "mpid = 'mp-27502'\n",
    "cid = mpr.query_contributions(criteria={'mp_cat_id': mpid})[0]['_id']\n",
    "mpfile = mpr.find_contribution(cid)"
   ]
  },
  {
   "cell_type": "markdown",
   "metadata": {},
   "source": [
    "### hierarchical data"
   ]
  },
  {
   "cell_type": "code",
   "execution_count": null,
   "metadata": {
    "collapsed": false
   },
   "outputs": [],
   "source": [
    "mpfile.hdata[mpid]['data'] # dictionary"
   ]
  },
  {
   "cell_type": "markdown",
   "metadata": {},
   "source": [
    "### tabular data"
   ]
  },
  {
   "cell_type": "code",
   "execution_count": null,
   "metadata": {
    "collapsed": false
   },
   "outputs": [],
   "source": [
    "df = mpfile.tdata[mpid]['S(p)'] # Pandas DataFrame\n",
    "print df.columns\n",
    "df[['T [K]', '1e+16 cm⁻³ [μV/K]']]"
   ]
  },
  {
   "cell_type": "markdown",
   "metadata": {},
   "source": [
    "### graphs"
   ]
  },
  {
   "cell_type": "code",
   "execution_count": null,
   "metadata": {
    "collapsed": false
   },
   "outputs": [],
   "source": [
    "mpfile.gdata[mpid]['S(p)']"
   ]
  },
  {
   "cell_type": "markdown",
   "metadata": {},
   "source": [
    "## query"
   ]
  },
  {
   "cell_type": "code",
   "execution_count": null,
   "metadata": {
    "collapsed": false
   },
   "outputs": [],
   "source": [
    "# direct querying will be possible once MPContribs has switched to SciData internally (better units handling)\n",
    "docs = mpr.query_contributions(projection={'content.data.S.p.<ε>': 1, 'mp_cat_id': 1})\n",
    "results = {}\n",
    "for doc in docs:\n",
    "    S = doc['content']['data']['S']['p']['<ε>']\n",
    "    value = float(S.split()[0])\n",
    "    if value > 700.:\n",
    "        results[doc['mp_cat_id']] = value\n",
    "results"
   ]
  }
 ],
 "metadata": {
  "kernelspec": {
   "display_name": "Python 2",
   "language": "python",
   "name": "python2"
  },
  "language_info": {
   "codemirror_mode": {
    "name": "ipython",
    "version": 2
   },
   "file_extension": ".py",
   "mimetype": "text/x-python",
   "name": "python",
   "nbconvert_exporter": "python",
   "pygments_lexer": "ipython2",
   "version": "2.7.12"
  }
 },
 "nbformat": 4,
 "nbformat_minor": 2
}
